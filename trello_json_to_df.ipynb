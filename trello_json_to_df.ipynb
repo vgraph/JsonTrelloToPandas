{
 "cells": [
  {
   "cell_type": "code",
   "execution_count": 3,
   "metadata": {},
   "outputs": [],
   "source": [
    "import pandas as pd\n",
    "import numpy as np\n",
    "\n",
    "import datetime\n",
    "from datetime import datetime, date\n",
    "\n",
    "import matplotlib.pyplot as plt\n",
    "%matplotlib inline\n",
    "\n",
    "# Настройка вывода библиотеки pandas\n",
    "# Задает вывод Series и DataFrame в виде текста, а не html\n",
    "pd.set_option('display.notebook_repr_html', False)\n",
    "pd.set_option('display.max_columns', 12)\n",
    "pd.set_option('display.max_rows', 10)\n",
    "pd.set_option('display.width', 80)  # Максимальное кол-во символов в строке"
   ]
  },
  {
   "cell_type": "code",
   "execution_count": 4,
   "metadata": {},
   "outputs": [],
   "source": [
    "import json\n",
    "import os"
   ]
  },
  {
   "cell_type": "code",
   "execution_count": 5,
   "metadata": {},
   "outputs": [],
   "source": [
    "from pandas.io.json import json_normalize"
   ]
  },
  {
   "cell_type": "code",
   "execution_count": 6,
   "metadata": {},
   "outputs": [],
   "source": [
    "with open('trello_01.json', encoding='utf-8') as f: \n",
    "    d = json.load(f) "
   ]
  },
  {
   "cell_type": "code",
   "execution_count": 7,
   "metadata": {},
   "outputs": [
    {
     "name": "stdout",
     "output_type": "stream",
     "text": [
      "dict_keys(['id', 'name', 'desc', 'descData', 'closed', 'idOrganization', 'limits', 'pinned', 'starred', 'url', 'prefs', 'shortLink', 'subscribed', 'labelNames', 'powerUps', 'dateLastActivity', 'dateLastView', 'shortUrl', 'idTags', 'datePluginDisable', 'creationMethod', 'ixUpdate', 'actions', 'cards', 'labels', 'lists', 'members', 'checklists', 'customFields', 'memberships', 'pluginData'])\n"
     ]
    }
   ],
   "source": [
    "print(d.keys())"
   ]
  },
  {
   "cell_type": "code",
   "execution_count": 8,
   "metadata": {
    "scrolled": false
   },
   "outputs": [],
   "source": [
    "l = d['cards']"
   ]
  },
  {
   "cell_type": "code",
   "execution_count": 9,
   "metadata": {},
   "outputs": [],
   "source": [
    "df = json_normalize(l)"
   ]
  },
  {
   "cell_type": "code",
   "execution_count": 10,
   "metadata": {},
   "outputs": [
    {
     "data": {
      "text/plain": [
       "Index(['id', 'address', 'checkItemStates', 'closed', 'coordinates',\n",
       "       'creationMethod', 'dateLastActivity', 'desc', 'dueReminder', 'idBoard',\n",
       "       'idLabels', 'idList', 'idMembersVoted', 'idShort', 'idAttachmentCover',\n",
       "       'locationName', 'manualCoverAttachment', 'name', 'pos', 'shortLink',\n",
       "       'dueComplete', 'due', 'email', 'idChecklists', 'idMembers', 'labels',\n",
       "       'shortUrl', 'subscribed', 'url', 'attachments', 'pluginData',\n",
       "       'customFieldItems', 'limits.attachments.perCard.status',\n",
       "       'limits.attachments.perCard.disableAt',\n",
       "       'limits.attachments.perCard.warnAt', 'limits.checklists.perCard.status',\n",
       "       'limits.checklists.perCard.disableAt',\n",
       "       'limits.checklists.perCard.warnAt', 'limits.stickers.perCard.status',\n",
       "       'limits.stickers.perCard.disableAt', 'limits.stickers.perCard.warnAt',\n",
       "       'badges.attachmentsByType.trello.board',\n",
       "       'badges.attachmentsByType.trello.card', 'badges.location',\n",
       "       'badges.votes', 'badges.viewingMemberVoted', 'badges.subscribed',\n",
       "       'badges.fogbugz', 'badges.checkItems', 'badges.checkItemsChecked',\n",
       "       'badges.comments', 'badges.attachments', 'badges.description',\n",
       "       'badges.due', 'badges.dueComplete', 'descData'],\n",
       "      dtype='object')"
      ]
     },
     "execution_count": 10,
     "metadata": {},
     "output_type": "execute_result"
    }
   ],
   "source": [
    "df.columns"
   ]
  },
  {
   "cell_type": "code",
   "execution_count": 11,
   "metadata": {},
   "outputs": [
    {
     "data": {
      "text/plain": [
       "'АНТИКРИЗИС - баннер (100x100 gif со ссылкой)'"
      ]
     },
     "execution_count": 11,
     "metadata": {},
     "output_type": "execute_result"
    }
   ],
   "source": [
    "df.iloc[1]['name']"
   ]
  },
  {
   "cell_type": "code",
   "execution_count": null,
   "metadata": {},
   "outputs": [],
   "source": []
  }
 ],
 "metadata": {
  "kernelspec": {
   "display_name": "Python 3",
   "language": "python",
   "name": "python3"
  },
  "language_info": {
   "codemirror_mode": {
    "name": "ipython",
    "version": 3
   },
   "file_extension": ".py",
   "mimetype": "text/x-python",
   "name": "python",
   "nbconvert_exporter": "python",
   "pygments_lexer": "ipython3",
   "version": "3.7.2"
  }
 },
 "nbformat": 4,
 "nbformat_minor": 2
}
